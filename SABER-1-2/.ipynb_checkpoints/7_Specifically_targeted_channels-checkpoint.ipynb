{
 "cells": [
  {
   "cell_type": "code",
   "execution_count": 1,
   "id": "d9a8772a-cb7e-4fd4-870c-c5f8463ea595",
   "metadata": {},
   "outputs": [],
   "source": [
    "import pandas as pd\n",
    "import numpy as np\n",
    "import matplotlib as mpl\n",
    "import matplotlib.pyplot as plt\n",
    "import matplotlib.font_manager as font_manager\n",
    "import seaborn as sns\n",
    "import os\n",
    "import json\n",
    "from itertools import permutations\n",
    "from sklearn.decomposition import PCA\n",
    "\n",
    "np.random.seed(42)\n",
    "\n",
    "%matplotlib inline"
   ]
  },
  {
   "cell_type": "code",
   "execution_count": 2,
   "id": "182fb9a5-24f2-41cc-935b-d2913b328d72",
   "metadata": {},
   "outputs": [],
   "source": [
    "# Set data input folder\n",
    "input_folder = \"inputs\"\n",
    "\n",
    "# Set output folder, subfolder\n",
    "output_folder = \"outputs\"\n",
    "if not os.path.exists(output_folder):\n",
    "    os.makedirs(output_folder, exist_ok=True)"
   ]
  },
  {
   "cell_type": "code",
   "execution_count": 13,
   "id": "f2d9bb8f-1145-40cc-a208-d1ccc033945b",
   "metadata": {},
   "outputs": [],
   "source": [
    "whole_cell_hits = pd.read_csv(os.path.join(output_folder,'HeLa_SABER_plate_level_median_per_feat_sig_genes_1_FDR_whole_cell_hits.csv')).set_index('Gene')\n",
    "comp_spec_hits = pd.read_csv(os.path.join(output_folder,'HeLa_SABER_plate_level_median_per_feat_sig_genes_1_FDR_compartment_specific_hits.csv')).set_index('Gene')"
   ]
  },
  {
   "cell_type": "code",
   "execution_count": 21,
   "id": "611f8662-a476-4fee-91a1-eab94f3d4acc",
   "metadata": {},
   "outputs": [
    {
     "data": {
      "text/plain": [
       "DNA            11.0\n",
       "Phalloidin     21.0\n",
       "WGA            17.0\n",
       "ConA           17.0\n",
       "Catalase        5.0\n",
       "btubulin       20.0\n",
       "Calnexin        8.0\n",
       "NfKb           19.0\n",
       "COXIV          14.0\n",
       "LAMP1          23.0\n",
       "PRSP6          29.0\n",
       "Syto9          20.0\n",
       "TDP43          12.0\n",
       "G3BP1          10.0\n",
       "GM130          12.0\n",
       "Sum           191.0\n",
       "Name: TUBB4B, dtype: float64"
      ]
     },
     "execution_count": 21,
     "metadata": {},
     "output_type": "execute_result"
    }
   ],
   "source": [
    "['TARDBP','COX4I1','CANX','LAMP1','RPS6','TUBB4B','GOLGA1']\n",
    "whole_cell_hits.loc['TUBB4B']\n",
    "#comp_spec_hits.loc['TUBB4B']"
   ]
  },
  {
   "cell_type": "code",
   "execution_count": null,
   "id": "d2d84404-8214-45ed-9658-4928d95d429e",
   "metadata": {},
   "outputs": [],
   "source": [
    "## Load CORUM data\n",
    "CORUM_data = pd.read_csv('../common_files/CORUM_humanComplexes.txt',sep = '\\t')\n",
    "\n",
    "# Load STRING data\n",
    "STRING_data = pd.read_csv('../common_files/STRING_data.csv.gz')\n",
    "\n",
    "# load gene level profiles \n",
    "df_gene = pd.read_csv(os.path.join(output_folder,'20240202_6W_CP498_SABER_Pilot_HeLa_SABER_only_guide_normalized_merged_feature_select_median_ALLWELLS_gene_aggregated.csv.gz')).set_index('Metadata_Foci_Barcode_MatchedTo_GeneCode')\n",
    "# load hit lists \n",
    "whole_cell_hits = pd.read_csv(os.path.join(output_folder,'HeLa_SABER_plate_level_median_per_feat_sig_genes_1_FDR_whole_cell_hits.csv')).set_index('Gene')\n",
    "comp_spec_hits = pd.read_csv(os.path.join(output_folder,'HeLa_SABER_plate_level_median_per_feat_sig_genes_1_FDR_compartment_specific_hits.csv')).set_index('Gene')\n",
    "hit_list = list(comp_spec_hits.index) + list(whole_cell_hits.index)\n",
    "df_hits = df_gene.loc[df_gene.index.isin(hit_list)]\n",
    "df_hits"
   ]
  }
 ],
 "metadata": {
  "kernelspec": {
   "display_name": "Python 3 (ipykernel)",
   "language": "python",
   "name": "python3"
  },
  "language_info": {
   "codemirror_mode": {
    "name": "ipython",
    "version": 3
   },
   "file_extension": ".py",
   "mimetype": "text/x-python",
   "name": "python",
   "nbconvert_exporter": "python",
   "pygments_lexer": "ipython3",
   "version": "3.9.15"
  }
 },
 "nbformat": 4,
 "nbformat_minor": 5
}
