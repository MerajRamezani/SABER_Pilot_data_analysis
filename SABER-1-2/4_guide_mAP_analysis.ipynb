{
 "cells": [
  {
   "cell_type": "code",
   "execution_count": 10,
   "id": "5f5cc6b7-8bb4-4f00-8234-0ef798675ee7",
   "metadata": {},
   "outputs": [],
   "source": [
    "import pandas as pd\n",
    "import numpy as np\n",
    "from numpy import dot\n",
    "from numpy.linalg import norm\n",
    "from sklearn.metrics.pairwise import cosine_similarity\n",
    "import matplotlib.pyplot as plt\n",
    "import seaborn as sns\n",
    "from functools import reduce\n",
    "from scipy.spatial import distance\n",
    "import pathlib\n",
    "import os\n",
    "from sklearn.decomposition import PCA\n",
    "import json\n",
    "import random\n",
    "from random import sample\n",
    "\n",
    "random.seed(30)"
   ]
  },
  {
   "cell_type": "code",
   "execution_count": 11,
   "id": "1f92d19f-6468-492c-bbcf-5d97124fb570",
   "metadata": {},
   "outputs": [],
   "source": [
    "# Set data input folder\n",
    "input_folder = \"inputs\"\n",
    "\n",
    "# Set output folder, subfolder\n",
    "output_folder = \"outputs\"\n",
    "if not os.path.exists(output_folder):\n",
    "    os.makedirs(output_folder, exist_ok=True)"
   ]
  },
  {
   "cell_type": "code",
   "execution_count": 3,
   "id": "927b5ccc-08a1-46d4-be60-b2e04604509d",
   "metadata": {},
   "outputs": [
    {
     "name": "stdout",
     "output_type": "stream",
     "text": [
      "All genes: 590 non-hit genes 206 Whole cell hits 306 Compartment hits 78\n"
     ]
    }
   ],
   "source": [
    "# Import the guide-level profiles\n",
    "df_guide = pd.read_csv(\"outputs/20240202_6W_CP498_SABER_Pilot_HeLa_SABER_only_guide_normalized_merged_feature_select_median_ALLWELLS_1_2.csv.gz\")\n",
    "# Subset the nontargeting guide profiles \n",
    "df_nontargeting = df_guide.query(\"Metadata_Foci_Barcode_MatchedTo_GeneCode == 'nontargeting'\")\n",
    "\n",
    "# Load hits from the hit calling process\n",
    "whole_cell_hits = pd.read_csv('outputs/HeLa_SABER_plate_level_median_per_feat_sig_genes_1_FDR_whole_cell_hits.csv')\n",
    "comp_spec_hits = pd.read_csv('outputs/HeLa_SABER_plate_level_median_per_feat_sig_genes_1_FDR_compartment_specific_hits.csv')\n",
    "all_hits = pd.concat([whole_cell_hits,comp_spec_hits])\n",
    "hit_list = list(comp_spec_hits.Gene) + list(whole_cell_hits.Gene)\n",
    "whole_cell_hit_list = list(whole_cell_hits.Gene)\n",
    "comp_spec_hit_list = list(comp_spec_hits.Gene)\n",
    "\n",
    "# list non hit genes\n",
    "all_genes_list = list(df_guide.Metadata_Foci_Barcode_MatchedTo_GeneCode.unique())\n",
    "all_genes_list.remove(\"nontargeting\")\n",
    "non_hit_list = [gene for gene in all_genes_list if gene not in hit_list]\n",
    "print(\"All genes:\",len(all_genes_list),\"non-hit genes\",len(non_hit_list),'Whole cell hits',len(whole_cell_hit_list),'Compartment hits',len(comp_spec_hit_list))\n"
   ]
  },
  {
   "cell_type": "code",
   "execution_count": 4,
   "id": "149176b7-bed3-4a27-bb67-ccf57d01e0d7",
   "metadata": {},
   "outputs": [
    {
     "name": "stdout",
     "output_type": "stream",
     "text": [
      "Average cosine distance:  0.5053622550758526\n"
     ]
    }
   ],
   "source": [
    "def calculate_mean_similarity(cosine_array):\n",
    "    total_sum = 0\n",
    "    for i in range(4):\n",
    "        similarities = cosine_array[i]\n",
    "        target_sum = 0\n",
    "        for j in range(4):\n",
    "            target_sum += similarities[j]  \n",
    "        target_mean = ((target_sum-1)/3)\n",
    "        total_sum += target_mean\n",
    "\n",
    "    total_mean = total_sum / 4\n",
    "    return total_mean\n",
    "\n",
    "hit_guide_sim_list =[]\n",
    "for i in range(len(whole_cell_hit_list)):\n",
    "    df_temp = df_guide.query(\"Metadata_Foci_Barcode_MatchedTo_GeneCode == @whole_cell_hit_list[@i]\")\n",
    "    df_temp = df_temp.drop(['Metadata_Foci_Barcode_MatchedTo_Barcode'],axis=1)\n",
    "    df_temp = df_temp.set_index(\"Metadata_Foci_Barcode_MatchedTo_GeneCode\")\n",
    "    cosine_array = cosine_similarity(df_temp)\n",
    "    hit_guide_sim = calculate_mean_similarity(cosine_array)\n",
    "    hit_guide_sim_list.append(hit_guide_sim)\n",
    "average_cosine_distance = sum(hit_guide_sim_list)/len(hit_guide_sim_list)\n",
    "print('Average cosine distance: ',average_cosine_distance)"
   ]
  },
  {
   "cell_type": "code",
   "execution_count": 5,
   "id": "6b284be0-d426-4ee2-880c-9000432b6a44",
   "metadata": {},
   "outputs": [],
   "source": [
    "def cosine_to_df(df_temp, cosine_array, i):\n",
    "    cosine_list = cosine_array[i]\n",
    "    gene_list = list(df_temp.index)\n",
    "    cosine_df = pd.DataFrame(index=gene_list)\n",
    "    cosine_df['cosine'] = cosine_list\n",
    "    cosine_df = cosine_df.sort_values('cosine',ascending=False)   \n",
    "    return cosine_df\n",
    "\n",
    "def ap_from_cosine_df(cosine_df,gene,n=10):    \n",
    "    #print(cosine_df.iloc[:20])\n",
    "    index_list = list(cosine_df.index)\n",
    "    boolean = [1 if  i == gene else 0 for i in index_list ]\n",
    "    grades_list=[]\n",
    "    for i in range(2,n+2):\n",
    "        pre_grade = sum(boolean[1:i])/(i-1)\n",
    "        grades_list.append(pre_grade*boolean[i-1])\n",
    "    return sum(grades_list)/3\n",
    "\n",
    "def calculate_map(df_guide, gene):\n",
    "    df_temp = df_guide.query(\"Metadata_Foci_Barcode_MatchedTo_GeneCode == 'nontargeting' | Metadata_Foci_Barcode_MatchedTo_GeneCode == @gene\")\n",
    "    df_temp = df_temp.drop(['Metadata_Foci_Barcode_MatchedTo_Barcode'],axis=1)\n",
    "    df_temp = df_temp.set_index(\"Metadata_Foci_Barcode_MatchedTo_GeneCode\")\n",
    "    #print(df_temp)\n",
    "    ap_list = []\n",
    "    cosine_array = cosine_similarity(df_temp)\n",
    "    for guide in range(4):\n",
    "        cosine_df = cosine_to_df(df_temp, cosine_array, guide)\n",
    "        #print(cosine_df[:10])\n",
    "        guide_ap = ap_from_cosine_df(cosine_df,gene,10)\n",
    "        ap_list.append(guide_ap)\n",
    "    return np.mean(ap_list)"
   ]
  },
  {
   "cell_type": "code",
   "execution_count": 6,
   "id": "88467c60-6c51-45b5-9cb7-30afbb317aae",
   "metadata": {},
   "outputs": [
    {
     "name": "stdout",
     "output_type": "stream",
     "text": [
      "For all genes (590 genes) the mAP values is 0.4679663819388396\n"
     ]
    }
   ],
   "source": [
    "genes_list = all_genes_list\n",
    "map_list = []\n",
    "for i in range(len(genes_list)):\n",
    "    gene = genes_list[i]\n",
    "    #print(f\"Calculating mean average precision for gene: {gene}\")\n",
    "    gene_map = calculate_map(df_guide, gene)\n",
    "    #map_list.append([gene, gene_map])\n",
    "    map_list.append(gene_map)\n",
    "print(f'For all genes ({len(all_genes_list)} genes) the mAP values is',np.mean(map_list))"
   ]
  },
  {
   "cell_type": "code",
   "execution_count": 7,
   "id": "4650eca1-8dcf-4966-9591-65180c5270a8",
   "metadata": {},
   "outputs": [
    {
     "name": "stdout",
     "output_type": "stream",
     "text": [
      "For whole cell hits (306 genes) the mAP values is 0.7079170557111734\n"
     ]
    }
   ],
   "source": [
    "genes_list = whole_cell_hit_list\n",
    "map_list = []\n",
    "for i in range(len(genes_list)):\n",
    "    gene = genes_list[i]\n",
    "    #print(f\"Calculating mean average precision for gene: {gene}\")\n",
    "    gene_map = calculate_map(df_guide, gene)\n",
    "    #map_list.append([gene, gene_map])\n",
    "    map_list.append(gene_map)\n",
    "print(f'For whole cell hits ({len(whole_cell_hit_list)} genes) the mAP values is',np.mean(map_list))"
   ]
  },
  {
   "cell_type": "code",
   "execution_count": 8,
   "id": "3f818f57-2e77-485c-b4ab-4ea4217b0808",
   "metadata": {},
   "outputs": [
    {
     "name": "stdout",
     "output_type": "stream",
     "text": [
      "For compartment hits (78 genes) the mAP values is 0.3057777099443766\n"
     ]
    }
   ],
   "source": [
    "genes_list = comp_spec_hit_list\n",
    "map_list = []\n",
    "for i in range(len(genes_list)):\n",
    "    gene = genes_list[i]\n",
    "    #print(f\"Calculating mean average precision for gene: {gene}\")\n",
    "    gene_map = calculate_map(df_guide, gene)\n",
    "    #map_list.append([gene, gene_map])\n",
    "    map_list.append(gene_map)\n",
    "print(f'For compartment hits ({len(comp_spec_hit_list)} genes) the mAP values is',np.mean(map_list))"
   ]
  },
  {
   "cell_type": "code",
   "execution_count": 9,
   "id": "6934cdf0-eb4b-48a9-975b-b6c351646385",
   "metadata": {},
   "outputs": [
    {
     "name": "stdout",
     "output_type": "stream",
     "text": [
      "For non hits (206 genes) the mAP values is 0.17294604330405303\n"
     ]
    }
   ],
   "source": [
    "genes_list = non_hit_list\n",
    "map_list = []\n",
    "for i in range(len(genes_list)):\n",
    "    gene = genes_list[i]\n",
    "    #print(f\"Calculating mean average precision for gene: {gene}\")\n",
    "    gene_map = calculate_map(df_guide, gene)\n",
    "    #map_list.append([gene, gene_map])\n",
    "    map_list.append(gene_map)\n",
    "print(f'For non hits ({len(non_hit_list)} genes) the mAP values is',np.mean(map_list))"
   ]
  },
  {
   "cell_type": "code",
   "execution_count": null,
   "id": "c9a9ceb5-191e-4548-9f73-06f687675add",
   "metadata": {},
   "outputs": [],
   "source": []
  }
 ],
 "metadata": {
  "kernelspec": {
   "display_name": "Python 3 (ipykernel)",
   "language": "python",
   "name": "python3"
  },
  "language_info": {
   "codemirror_mode": {
    "name": "ipython",
    "version": 3
   },
   "file_extension": ".py",
   "mimetype": "text/x-python",
   "name": "python",
   "nbconvert_exporter": "python",
   "pygments_lexer": "ipython3",
   "version": "3.9.15"
  }
 },
 "nbformat": 4,
 "nbformat_minor": 5
}
